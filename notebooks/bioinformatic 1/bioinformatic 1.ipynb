{
 "cells": [
  {
   "cell_type": "markdown",
   "metadata": {},
   "source": [
    "# Implement **PatternCount** \n",
    "\n",
    "**Input:**  Strings Text and Pattern.     \n",
    "\n",
    "**Output:** `Count(Text, Pattern)`\n",
    "\n",
    "    PatternCount(Text, Pattern)\n",
    "        count ← 0\n",
    "        for i ← 0 to |Text| − |Pattern|\n",
    "            if Text(i, |Pattern|) = Pattern\n",
    "                count ← count + 1\n",
    "        return count\n",
    "\n",
    "**Sample Input:**\n",
    "\n",
    "    GCGCG\n",
    "    GCG\n",
    "    \n",
    "**Sample Output:**\n",
    "\n",
    "    2\n",
    "    "
   ]
  },
  {
   "cell_type": "code",
   "execution_count": 33,
   "metadata": {
    "collapsed": false
   },
   "outputs": [],
   "source": [
    "def pattern_count(text, pattern):\n",
    "    count = 0\n",
    "    for i in range(0, len(text) - len(pattern) +1):\n",
    "        if pattern in text[i:i+len(pattern)]:\n",
    "            print text[i:i+len(pattern)]\n",
    "            count += 1\n",
    "    return count"
   ]
  },
  {
   "cell_type": "code",
   "execution_count": 13,
   "metadata": {
    "collapsed": false
   },
   "outputs": [
    {
     "name": "stdout",
     "output_type": "stream",
     "text": [
      "2\n"
     ]
    }
   ],
   "source": [
    "# simple example\n",
    "print pattern_count('GCGCG', 'GCG')"
   ]
  },
  {
   "cell_type": "code",
   "execution_count": 36,
   "metadata": {
    "collapsed": false
   },
   "outputs": [
    {
     "name": "stdout",
     "output_type": "stream",
     "text": [
      "input_text: TTCCGCAGCCCGCAGCGTTGGAAGTTCCGCAGCCACCGCAGCACCCGCAGCTCCCGCAGCCCGCAGCGCGGTTTCCGCAGCGGCCGCAGCTACCGCAGCCACTTCCCGCAGCGTTTTTACCCAAGCAACCCGCAGCCCCGCAGCCCGCGACACCGCAGCCCGCAGCACCGCAGCTCGAGCGCCCCGCAGCCCGCAGCATACCACCCGCAGCGTGCCGCAGCTAAGGGGGACCGCAGCCTCCGCAGCCCTCTGCCGCAGCCCGCAGCTGCTGCGGTACTTCCGCAGCTTTTTGCCGCAGCCCCGCAGCGCCCCGCAGCAGCCCGCAGCCCGCAGCACCGCAGCCGCCGCAGCGCCGCAGCCGACACCGCAGCCCACCGCAGCATGACCGCAGCCCGCAGCCCCGCAGCCCGCAGCCCGCAGCCCGCAGCGACCGCAGCCCGCAGCAGCCCGCAGCTTAAGCCGCAGCGGCGCCGCAGCCCGCAGCTGTCCCGCAGCGCTTTCGGCCGCAGCGCCGCAGCGCCCGCAGCCCGCAGCACTCCGCAGCCCGTCCGCAGCCCGCAGCTCTGACCGCAGCCCGCAGCCCGCAGCTTCCGCAGCCCGCAGCCCGCAGCCCGCAGCGCCGCAGCTCCGCAGCCCGCAGCCGCCGCAGCCCGCAGCCTTTCTGACCGCCGCAGCCCGCAGCCCGCAGCACCCGCAGCGCGGCCGCAGCCACCGCAGCGCAACCGCAGCTCCCGCAGCCCGCAGCCCGCAGCCCGCCCGCAGCAGGCCGCAGCTGGCTCCCGCAGCACAGCCGCAGCCCGCAGCTCCGCAGCTGGCCGCAGCCCGCAGCGCCGCAGCCCGCAGCTATCCGCAGCCCGCAGCTCCGCAGCCCACCGCAGCCCGCCCGCAGCACCGCAGCATCCGCAGCAGCCCGCAGCCGCTAACCGCAGCTGGTCCGCAGCTCCGCAGCGGCCGCAGCCCAGGAAACATAGCTCCGCAGCTGCCGCAGCCCGCCCGCAGCAATTGAATCCGCAGCTACCGCAGCCCGCAGCCCGCAGC\n",
      "\n",
      "input_pattern: CCGCAGCCC\n",
      "\n",
      "l: 1039\n",
      "test\n",
      "0\n"
     ]
    }
   ],
   "source": [
    "def pattern_count(text, pattern):\n",
    "    \n",
    "    print \"test\"\n",
    "    count = 0\n",
    "    for i in range(0, len(text) - len(pattern) +1):\n",
    "        if pattern in text[i:i+len(pattern)]:\n",
    "            print text[i:i+len(pattern)]\n",
    "            count += 1\n",
    "    return count\n",
    "\n",
    "fname = 'input_files/dataset_2_6.txt'\n",
    "\n",
    "f = open(fname, 'r')\n",
    "\n",
    "input_text = f.readline()\n",
    "input_pattern = f.readline()\n",
    "\n",
    "print 'input_text: ' + input_text\n",
    "print 'input_pattern: ' + input_pattern\n",
    "print 'l: ' + str(len(input_text))\n",
    "print pattern_count(input_text, input_pattern)"
   ]
  }
 ],
 "metadata": {
  "kernelspec": {
   "display_name": "Python 2",
   "language": "python",
   "name": "python2"
  },
  "language_info": {
   "codemirror_mode": {
    "name": "ipython",
    "version": 2
   },
   "file_extension": ".py",
   "mimetype": "text/x-python",
   "name": "python",
   "nbconvert_exporter": "python",
   "pygments_lexer": "ipython2",
   "version": "2.7.11"
  }
 },
 "nbformat": 4,
 "nbformat_minor": 0
}
